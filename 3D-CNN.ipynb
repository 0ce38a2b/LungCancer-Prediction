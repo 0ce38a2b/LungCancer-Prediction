{
 "cells": [
  {
   "cell_type": "markdown",
   "metadata": {},
   "source": [
    "# 3D-CNN"
   ]
  },
  {
   "cell_type": "code",
   "execution_count": 11,
   "metadata": {
    "pycharm": {
     "name": "#%%\n"
    }
   },
   "outputs": [
    {
     "name": "stdout",
     "output_type": "stream",
     "text": [
      "WARNING:tensorflow:From c:\\users\\cheng\\desktop\\tfod\\venv\\lib\\site-packages\\tensorflow\\python\\framework\\op_def_library.py:263: colocate_with (from tensorflow.python.framework.ops) is deprecated and will be removed in a future version.\n",
      "Instructions for updating:\n",
      "Colocations handled automatically by placer.\n",
      "WARNING:tensorflow:From <ipython-input-11-994d1e86e1a0>:60: calling dropout (from tensorflow.python.ops.nn_ops) with keep_prob is deprecated and will be removed in a future version.\n",
      "Instructions for updating:\n",
      "Please use `rate` instead of `keep_prob`. Rate should be set to `rate = 1 - keep_prob`.\n",
      "WARNING:tensorflow:From <ipython-input-11-994d1e86e1a0>:74: softmax_cross_entropy_with_logits (from tensorflow.python.ops.nn_ops) is deprecated and will be removed in a future version.\n",
      "Instructions for updating:\n",
      "\n",
      "Future major versions of TensorFlow will allow gradients to flow\n",
      "into the labels input on backprop by default.\n",
      "\n",
      "See `tf.nn.softmax_cross_entropy_with_logits_v2`.\n",
      "\n"
     ]
    },
    {
     "data": {
      "text/plain": [
       "<tf.Tensor 'accuracy:0' shape=() dtype=string>"
      ]
     },
     "execution_count": 11,
     "metadata": {},
     "output_type": "execute_result"
    }
   ],
   "source": [
    "# 超参数设置\n",
    "batch_size = 10\n",
    "keep_rate = 0.8\n",
    "train_epochs = 2   \n",
    "\n",
    "\n",
    "# 普通参数设置\n",
    "IMG_SIZE_PX = 50\n",
    "SLICE_COUNT = 20\n",
    "n_classes = 2\n",
    "save_step=1\n",
    "\n",
    "\n",
    "# 定义待输入数据\n",
    "x = tf.placeholder('float')\n",
    "y = tf.placeholder('float')\n",
    "\n",
    "\n",
    "# 定义变量\n",
    "#  5 x 5 x 5 patches, 1 channel, 32 features to compute.\n",
    "weights = {'W_conv1':tf.Variable(tf.random_normal([3,3,3,1,32])),\n",
    "           # 5 x 5 x 5 patches, 32 channels, 64 features to compute.\n",
    "           'W_conv2':tf.Variable(tf.random_normal([3,3,3,32,64])),\n",
    "           # 64 features\n",
    "           'W_fc':tf.Variable(tf.random_normal([54080,1024])),\n",
    "           'out':tf.Variable(tf.random_normal([1024, n_classes]))}\n",
    "\n",
    "biases = {'b_conv1':tf.Variable(tf.random_normal([32])),\n",
    "          'b_conv2':tf.Variable(tf.random_normal([64])),\n",
    "          'b_fc':tf.Variable(tf.random_normal([1024])),\n",
    "          'out':tf.Variable(tf.random_normal([n_classes]))}\n",
    "\n",
    "#image_shaped_input = tf.reshape(x,[-1,50 ,50 ,1])\n",
    "#tf.summary.image('input',image_shaped_input, 10)\n",
    "\n",
    "\n",
    "\n",
    "# 前向计算\n",
    "def conv3d(x, W):\n",
    "    return tf.nn.conv3d(x, W, strides=[1,1,1,1,1], padding='SAME')\n",
    "\n",
    "def maxpool3d(x):\n",
    "    #  size of window  movement of window as you slide about\n",
    "    return tf.nn.max_pool3d(x, ksize=[1,2,2,2,1], strides=[1,2,2,2,1], padding='SAME')\n",
    "\n",
    "def convolutional_neural_network(x):\n",
    "    \n",
    "    #  image X  image Y  image Z\n",
    "    x = tf.reshape(x, shape=[-1, IMG_SIZE_PX, IMG_SIZE_PX, SLICE_COUNT, 1])\n",
    "\n",
    "    conv1 = tf.nn.relu(conv3d(x, weights['W_conv1']) + biases['b_conv1'])\n",
    "    conv1 = maxpool3d(conv1)\n",
    "\n",
    "\n",
    "    conv2 = tf.nn.relu(conv3d(conv1, weights['W_conv2']) + biases['b_conv2'])\n",
    "    conv2 = maxpool3d(conv2)\n",
    "\n",
    "    fc = tf.reshape(conv2,[-1, 54080])\n",
    "    fc = tf.nn.relu(tf.matmul(fc, weights['W_fc'])+biases['b_fc'])\n",
    "    fc = tf.nn.dropout(fc, keep_rate)\n",
    "\n",
    "    forward = tf.matmul(fc, weights['out'])+biases['out']\n",
    "    \n",
    "    tf.summary.histogram('forward',forward)\n",
    "\n",
    "    return forward\n",
    "\n",
    "\n",
    "\n",
    "\n",
    "# 定义 prediction & loss_function & optimizer\n",
    "prediction = convolutional_neural_network(x)\n",
    "\n",
    "loss_function = tf.reduce_mean( tf.nn.softmax_cross_entropy_with_logits(logits=prediction,labels=y) )\n",
    "tf.summary.scalar('loss',loss_function)\n",
    "    \n",
    "optimizer = tf.train.AdamOptimizer(learning_rate=1e-3).minimize(loss_function)\n"
   ]
  },
  {
   "cell_type": "code",
   "execution_count": 12,
   "metadata": {},
   "outputs": [],
   "source": [
    "def train_neural_network(x):\n",
    "    \n",
    "    much_data = np.load('muchdata-50-50-20.npy',allow_pickle= True)\n",
    "    train_data = much_data[:-1]\n",
    "    validation_data = much_data[-1:]\n",
    "\n",
    "    # 创建保存模型目录   \n",
    "    ckpt_dir=\"./ckpt_dir/\"\n",
    "    if not os.path.exists(ckpt_dir):\n",
    "        os.makedirs(ckpt_dir)\n",
    "        \n",
    "    \n",
    "    with tf.Session() as sess:\n",
    "        sess.run(tf.initialize_all_variables())\n",
    "        \n",
    "        merged_summary_op = tf.summary.merge_all()\n",
    "        writer = tf.summary.FileWriter('C:/Users/cheng/Desktop/TFOD/Data_Science_Bowl_2017/log',sess.graph) #创建写入符\n",
    "        \n",
    "        successful_runs = 0\n",
    "        total_runs = 0\n",
    "        \n",
    "        saver = tf.train.Saver() # 模型保存\n",
    "            \n",
    "        for epoch in range(train_epochs):\n",
    "            epoch_loss = 0\n",
    "            for data in train_data:\n",
    "                total_runs += 1\n",
    "                try:\n",
    "                    # 读取批次数据\n",
    "                    X = data[0]\n",
    "                    Y = data[1]\n",
    "                    # 执行批次训练\n",
    "                    _, c = sess.run([optimizer, loss_function], feed_dict={x: X, y: Y})\n",
    "                    \n",
    "                    # 生成summary\n",
    "                    summary_str = sess.run(merged_summary_op,feed_dict={x: X, y: Y})\n",
    "                    writer.add_summary(summary_str, epoch)\n",
    "                    \n",
    "                    epoch_loss += c\n",
    "                    successful_runs += 1\n",
    "                except Exception as e:\n",
    "                    pass\n",
    "            \n",
    "            print('Epoch', epoch+1, 'completed out of',train_epochs,'loss:',epoch_loss)\n",
    "\n",
    "            # 检查预测类别与实际类别的匹配情况\n",
    "            correct_prediction = tf.equal(tf.argmax(prediction, 1), tf.argmax(y, 1))\n",
    "            # 计算准确率\n",
    "            accuracy = tf.reduce_mean(tf.cast(correct_prediction, 'float'))\n",
    "            #tf.summary.scalar('accuracy',accuracy)\n",
    "            \n",
    "            merged_summary_op = tf.summary.merge_all()\n",
    "            writer = tf.summary.FileWriter('log/', sess.graph)\n",
    "            #writer = tf.summary.FileWriter('C:/Users/cheng/Desktop/TFOD/Data_Science_Bowl_2017/log',sess.graph) #创建写入符\n",
    "            \n",
    "\n",
    "            print('Accuracy:',accuracy.eval({x:[i[0] for i in validation_data], y:[i[1] for i in validation_data]}))\n",
    "            \n",
    "            # 模型保存\n",
    "            if (epoch+1)%save_step == 0:\n",
    "                saver.save(sess , os.path.join(ckpt_dir,\n",
    "                                            'model_Lung_cancer{:06d}.ckpt'.format(epoch+1)))\n",
    "                print('model_Lung_cancer{:06d}.ckpt saved'.format(epoch+1))\n",
    "                \n",
    "                \n",
    "                           \n",
    "        print('Done. Finishing accuracy:')\n",
    "        print('Accuracy:',accuracy.eval({x:[i[0] for i in validation_data], y:[i[1] for i in validation_data]}))\n",
    "        print('fitment percent:',successful_runs/total_runs)\n",
    "                      "
   ]
  },
  {
   "cell_type": "code",
   "execution_count": 13,
   "metadata": {
    "pycharm": {
     "name": "#%%\n"
    }
   },
   "outputs": [
    {
     "name": "stdout",
     "output_type": "stream",
     "text": [
      "WARNING:tensorflow:From c:\\users\\cheng\\desktop\\tfod\\venv\\lib\\site-packages\\tensorflow\\python\\util\\tf_should_use.py:193: initialize_all_variables (from tensorflow.python.ops.variables) is deprecated and will be removed after 2017-03-02.\n",
      "Instructions for updating:\n",
      "Use `tf.global_variables_initializer` instead.\n",
      "Epoch 1 completed out of 2 loss: 0\n",
      "Accuracy: 1.0\n",
      "model_Lung_cancer000001.ckpt saved\n",
      "Epoch 2 completed out of 2 loss: 0\n",
      "Accuracy: 1.0\n",
      "model_Lung_cancer000002.ckpt saved\n",
      "Done. Finishing accuracy:\n",
      "Accuracy: 0.0\n",
      "fitment percent: 0.0\n"
     ]
    }
   ],
   "source": [
    "train_neural_network(x)"
   ]
  }
 ],
 "metadata": {
  "kernelspec": {
   "display_name": "Python 3",
   "language": "python",
   "name": "python3"
  },
  "language_info": {
   "codemirror_mode": {
    "name": "ipython",
    "version": 3
   },
   "file_extension": ".py",
   "mimetype": "text/x-python",
   "name": "python",
   "nbconvert_exporter": "python",
   "pygments_lexer": "ipython3",
   "version": "3.6.8"
  },
  "pycharm": {
   "stem_cell": {
    "cell_type": "raw",
    "source": [],
    "metadata": {
     "collapsed": false
    }
   }
  }
 },
 "nbformat": 4,
 "nbformat_minor": 1
}