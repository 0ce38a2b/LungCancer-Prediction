{
 "cells": [
  {
   "cell_type": "markdown",
   "metadata": {
    "collapsed": true
   },
   "source": [
    "# Data Loading"
   ]
  },
  {
   "cell_type": "code",
   "execution_count": 1,
   "metadata": {},
   "outputs": [
    {
     "name": "stderr",
     "output_type": "stream",
     "text": [
      "c:\\users\\cheng\\desktop\\tfod\\venv\\lib\\site-packages\\tensorflow\\python\\framework\\dtypes.py:526: FutureWarning: Passing (type, 1) or '1type' as a synonym of type is deprecated; in a future version of numpy, it will be understood as (type, (1,)) / '(1,)type'.\n",
      "  _np_qint8 = np.dtype([(\"qint8\", np.int8, 1)])\n",
      "c:\\users\\cheng\\desktop\\tfod\\venv\\lib\\site-packages\\tensorflow\\python\\framework\\dtypes.py:527: FutureWarning: Passing (type, 1) or '1type' as a synonym of type is deprecated; in a future version of numpy, it will be understood as (type, (1,)) / '(1,)type'.\n",
      "  _np_quint8 = np.dtype([(\"quint8\", np.uint8, 1)])\n",
      "c:\\users\\cheng\\desktop\\tfod\\venv\\lib\\site-packages\\tensorflow\\python\\framework\\dtypes.py:528: FutureWarning: Passing (type, 1) or '1type' as a synonym of type is deprecated; in a future version of numpy, it will be understood as (type, (1,)) / '(1,)type'.\n",
      "  _np_qint16 = np.dtype([(\"qint16\", np.int16, 1)])\n",
      "c:\\users\\cheng\\desktop\\tfod\\venv\\lib\\site-packages\\tensorflow\\python\\framework\\dtypes.py:529: FutureWarning: Passing (type, 1) or '1type' as a synonym of type is deprecated; in a future version of numpy, it will be understood as (type, (1,)) / '(1,)type'.\n",
      "  _np_quint16 = np.dtype([(\"quint16\", np.uint16, 1)])\n",
      "c:\\users\\cheng\\desktop\\tfod\\venv\\lib\\site-packages\\tensorflow\\python\\framework\\dtypes.py:530: FutureWarning: Passing (type, 1) or '1type' as a synonym of type is deprecated; in a future version of numpy, it will be understood as (type, (1,)) / '(1,)type'.\n",
      "  _np_qint32 = np.dtype([(\"qint32\", np.int32, 1)])\n",
      "c:\\users\\cheng\\desktop\\tfod\\venv\\lib\\site-packages\\tensorflow\\python\\framework\\dtypes.py:535: FutureWarning: Passing (type, 1) or '1type' as a synonym of type is deprecated; in a future version of numpy, it will be understood as (type, (1,)) / '(1,)type'.\n",
      "  np_resource = np.dtype([(\"resource\", np.ubyte, 1)])\n"
     ]
    }
   ],
   "source": [
    "import pydicom as dicom\n",
    "import os \n",
    "import pandas as pd\n",
    "import matplotlib.pyplot as plt\n",
    "import cv2\n",
    "import numpy as np\n",
    "import math\n",
    "import tensorflow as tf\n",
    "\n",
    "data_dir = './CTdataset'\n",
    "patients = os.listdir(data_dir)\n",
    "labels_df = pd.read_csv('./labels.csv', index_col=0)"
   ]
  },
  {
   "cell_type": "markdown",
   "metadata": {},
   "source": [
    "# Data Preprocessing"
   ]
  },
  {
   "cell_type": "code",
   "execution_count": null,
   "metadata": {},
   "outputs": [],
   "source": [
    "\n",
    "IMG_SIZE_PX = 50\n",
    "SLICE_COUNT = 20\n",
    "\n",
    "def chunks(l, n):\n",
    "    \"\"\"Yield successive n-sized chunks from l.\"\"\"\n",
    "    for i in range(0, len(l), n):\n",
    "        yield l[i:i + n]\n",
    "\n",
    "\n",
    "def mean(a):\n",
    "    return sum(a) / len(a)\n",
    "\n",
    "\n",
    "def process_data(patient,labels_df,img_px_size=50, hm_slices=20, visualize=False):\n",
    "    \n",
    "    #label = labels_df.get_value(patient, 'cancer')\n",
    "    label = [0,1,0,0,1,0,0,1,0,1]\n",
    "    path = data_dir + patient\n",
    "    slices = [dicom.read_file(path + '/' + s) for s in os.listdir(path)]\n",
    "    slices.sort(key = lambda x: int(x.ImagePositionPatient[2]))\n",
    "\n",
    "    new_slices = []\n",
    "    slices = [cv2.resize(np.array(each_slice.pixel_array),(img_px_size,img_px_size)) for each_slice in slices]\n",
    "    \n",
    "    chunk_sizes = math.ceil(len(slices) / hm_slices)\n",
    "    for slice_chunk in chunks(slices, chunk_sizes):\n",
    "        slice_chunk = list(map(mean, zip(*slice_chunk)))\n",
    "        new_slices.append(slice_chunk)\n",
    "\n",
    "    if len(new_slices) == hm_slices-1:\n",
    "        new_slices.append(new_slices[-1])\n",
    "\n",
    "    if len(new_slices) == hm_slices-2:\n",
    "        new_slices.append(new_slices[-1])\n",
    "        new_slices.append(new_slices[-1])\n",
    "\n",
    "    if len(new_slices) == hm_slices+2:\n",
    "        new_val = list(map(mean, zip(*[new_slices[hm_slices-1],new_slices[hm_slices],])))\n",
    "        del new_slices[hm_slices]\n",
    "        new_slices[hm_slices-1] = new_val\n",
    "        \n",
    "    if len(new_slices) == hm_slices+1:\n",
    "        new_val = list(map(mean, zip(*[new_slices[hm_slices-1],new_slices[hm_slices],])))\n",
    "        del new_slices[hm_slices]\n",
    "        new_slices[hm_slices-1] = new_val\n",
    "\n",
    "    if visualize:\n",
    "        fig = plt.figure()\n",
    "        for num,each_slice in enumerate(new_slices):\n",
    "            y = fig.add_subplot(4,5,num+1)\n",
    "            y.imshow(each_slice, cmap='gray')\n",
    "        plt.show()\n",
    "\n",
    "    if label == 1: label=np.array([0,1])\n",
    "    elif label == 0: label=np.array([1,0])\n",
    "        \n",
    "    return np.array(new_slices),label\n",
    "\n",
    "much_data = []\n",
    "for num,patient in enumerate(patients):\n",
    "    if num % 100 == 0:\n",
    "        print(num)\n",
    "    try:\n",
    "        img_data,label = process_data(patient,label,img_px_size=IMG_SIZE_PX, hm_slices=SLICE_COUNT)\n",
    "        #print(img_data.shape,label)\n",
    "        much_data.append([img_data,label])\n",
    "    except KeyError as e:\n",
    "        print('This is unlabeled data!')\n",
    "\n",
    "np.save('muchdata-{}-{}-{}.npy'.format(IMG_SIZE_PX,IMG_SIZE_PX,SLICE_COUNT), much_data)"
   ]
  },
  {
   "cell_type": "markdown",
   "metadata": {},
   "source": [
    "# 3D-CNN"
   ]
  },
  {
   "cell_type": "code",
   "execution_count": 4,
   "metadata": {
    "pycharm": {
     "name": "#%%\n"
    }
   },
   "outputs": [
    {
     "name": "stdout",
     "output_type": "stream",
     "text": [
      "WARNING:tensorflow:From c:\\users\\cheng\\desktop\\tfod\\venv\\lib\\site-packages\\tensorflow\\python\\framework\\op_def_library.py:263: colocate_with (from tensorflow.python.framework.ops) is deprecated and will be removed in a future version.\n",
      "Instructions for updating:\n",
      "Colocations handled automatically by placer.\n",
      "WARNING:tensorflow:From <ipython-input-4-e0d1e8e2ec99>:61: calling dropout (from tensorflow.python.ops.nn_ops) with keep_prob is deprecated and will be removed in a future version.\n",
      "Instructions for updating:\n",
      "Please use `rate` instead of `keep_prob`. Rate should be set to `rate = 1 - keep_prob`.\n",
      "WARNING:tensorflow:From <ipython-input-4-e0d1e8e2ec99>:74: softmax_cross_entropy_with_logits (from tensorflow.python.ops.nn_ops) is deprecated and will be removed in a future version.\n",
      "Instructions for updating:\n",
      "\n",
      "Future major versions of TensorFlow will allow gradients to flow\n",
      "into the labels input on backprop by default.\n",
      "\n",
      "See `tf.nn.softmax_cross_entropy_with_logits_v2`.\n",
      "\n"
     ]
    },
    {
     "data": {
      "text/plain": [
       "<tf.Tensor 'accuracy:0' shape=() dtype=string>"
      ]
     },
     "execution_count": 4,
     "metadata": {},
     "output_type": "execute_result"
    }
   ],
   "source": [
    "# 超参数设置\n",
    "batch_size = 10\n",
    "keep_rate = 0.8\n",
    "train_epochs = 3\n",
    "learning_rate=1e-3\n",
    "\n",
    "\n",
    "# 普通参数设置\n",
    "IMG_SIZE_PX = 50\n",
    "SLICE_COUNT = 20\n",
    "n_classes = 2\n",
    "save_step=1\n",
    "\n",
    "\n",
    "# 定义待输入数据\n",
    "x = tf.placeholder(tf.float32,name=\"x\")\n",
    "y = tf.placeholder(tf.float32,name=\"y\")\n",
    "\n",
    "\n",
    "# 定义变量\n",
    "#  5 x 5 x 5 patches, 1 channel, 32 features to compute.\n",
    "weights = {'W_conv1':tf.Variable(tf.random_normal([3,3,3,1,32])),\n",
    "           # 5 x 5 x 5 patches, 32 channels, 64 features to compute.\n",
    "           'W_conv2':tf.Variable(tf.random_normal([3,3,3,32,64])),\n",
    "           # 64 features\n",
    "           'W_fc':tf.Variable(tf.random_normal([54080,1024])),\n",
    "           'out':tf.Variable(tf.random_normal([1024, n_classes]))}\n",
    "\n",
    "biases = {'b_conv1':tf.Variable(tf.random_normal([32])),\n",
    "          'b_conv2':tf.Variable(tf.random_normal([64])),\n",
    "          'b_fc':tf.Variable(tf.random_normal([1024])),\n",
    "          'out':tf.Variable(tf.random_normal([n_classes]))}\n",
    "\n",
    "#image_shaped_input = tf.reshape(x,[-1,50 ,50 ,1])\n",
    "#tf.summary.image('input',image_shaped_input, 10)\n",
    "\n",
    "\n",
    "\n",
    "# 前向计算\n",
    "def conv3d(x, W):\n",
    "    return tf.nn.conv3d(x, W, strides=[1,1,1,1,1], padding='SAME')\n",
    "\n",
    "def maxpool3d(x):\n",
    "    #  size of window  movement of window as you slide about\n",
    "    return tf.nn.max_pool3d(x, ksize=[1,2,2,2,1], strides=[1,2,2,2,1], padding='SAME')\n",
    "\n",
    "def convolutional_neural_network(x):\n",
    "    \n",
    "    #  image X  image Y  image Z\n",
    "    x = tf.reshape(x, shape=[-1, IMG_SIZE_PX, IMG_SIZE_PX, SLICE_COUNT, 1])\n",
    "\n",
    "    conv1 = tf.nn.relu(conv3d(x, weights['W_conv1']) + biases['b_conv1'])\n",
    "    conv1 = maxpool3d(conv1)\n",
    "\n",
    "\n",
    "    conv2 = tf.nn.relu(conv3d(conv1, weights['W_conv2']) + biases['b_conv2'])\n",
    "    conv2 = maxpool3d(conv2)\n",
    "\n",
    "    fc = tf.reshape(conv2,[-1, 54080])\n",
    "    fc = tf.nn.relu(tf.matmul(fc, weights['W_fc'])+biases['b_fc'])\n",
    "    fc = tf.nn.dropout(fc, keep_rate)\n",
    "\n",
    "    output = tf.matmul(fc, weights['out'])+biases['out']\n",
    "    tf.summary.histogram('forward',output)\n",
    "\n",
    "    return output\n",
    "\n",
    "\n",
    "\n",
    "\n",
    "# 定义 prediction & loss_function & optimizer\n",
    "prediction = convolutional_neural_network(x)\n",
    "\n",
    "loss_function = tf.reduce_mean( tf.nn.softmax_cross_entropy_with_logits(logits=prediction,labels=y) )\n",
    "tf.summary.scalar('loss',loss_function)\n",
    "    \n",
    "optimizer = tf.train.AdamOptimizer(learning_rate).minimize(loss_function)\n",
    "\n",
    "# 检查预测类别与实际类别的匹配情况\n",
    "correct_prediction = tf.equal(tf.argmax(prediction, 1), tf.argmax(y, 1))\n",
    "# 计算准确率\n",
    "accuracy = tf.reduce_mean(tf.cast(correct_prediction, tf.float32))\n",
    "tf.summary.scalar('accuracy',accuracy)\n"
   ]
  },
  {
   "cell_type": "code",
   "execution_count": 5,
   "metadata": {},
   "outputs": [],
   "source": [
    "def train_neural_network(x):\n",
    "    \n",
    "    much_data = np.load('muchdata-50-50-20.npy',allow_pickle= True)\n",
    "    train_data = much_data[:-5]\n",
    "    validation_data = much_data[-5:]\n",
    "\n",
    "    # 创建保存模型目录   \n",
    "    ckpt_dir=\"./ckpt_dir/\"\n",
    "    if not os.path.exists(ckpt_dir):\n",
    "        os.makedirs(ckpt_dir)\n",
    "        \n",
    "    \n",
    "    with tf.Session() as sess:\n",
    "        \n",
    "        init = tf.global_variables_initializer()\n",
    "        sess.run(init)\n",
    "        \n",
    "        merged_summary_op = tf.summary.merge_all()\n",
    "        writer = tf.summary.FileWriter('C:/Users/cheng/Desktop/TFOD/Data_Science_Bowl_2017/log',sess.graph) #创建写入符\n",
    "        \n",
    "        successful_runs = 0\n",
    "        total_runs = 0\n",
    "        \n",
    "        saver = tf.train.Saver() # 模型保存\n",
    "            \n",
    "        for epoch in range(train_epochs):\n",
    "            epoch_loss = 0\n",
    "            for data in train_data:\n",
    "                total_runs += 1\n",
    "                try:\n",
    "                    # 读取批次数据\n",
    "                    X = data[0]\n",
    "                    Y = data[1]\n",
    "                    # 执行批次训练\n",
    "                    _, c = sess.run([optimizer, loss_function], feed_dict={x: X, y: Y})\n",
    "                    \n",
    "                   \n",
    "                    \n",
    "                    # 生成summary\n",
    "                    summary_str = sess.run(merged_summary_op,feed_dict={x: X, y: Y})\n",
    "                    writer.add_summary(summary_str, epoch)\n",
    "                    \n",
    "                    epoch_loss += c\n",
    "                    successful_runs += 1\n",
    "                except Exception as e:\n",
    "                    pass\n",
    "            \n",
    "            print('Epoch', epoch+1, 'completed out of',train_epochs,'loss:',epoch_loss)\n",
    "\n",
    "            \n",
    "            merged_summary_op = tf.summary.merge_all()\n",
    "            writer = tf.summary.FileWriter('log/', sess.graph)\n",
    "            \n",
    "            \n",
    "\n",
    "            print('Accuracy:',accuracy.eval({x:[i[0] for i in validation_data], y:[i[1] for i in validation_data]}))\n",
    "            \n",
    "            # 模型保存\n",
    "            if (epoch+1)%save_step == 0:\n",
    "                saver.save(sess , os.path.join(ckpt_dir,\n",
    "                                            'model_Lung_cancer{:06d}.ckpt'.format(epoch+1)))\n",
    "                print('model_Lung_cancer{:06d}.ckpt saved'.format(epoch+1))\n",
    "                \n",
    "                \n",
    "                           \n",
    "        print('Done. Finishing accuracy:')\n",
    "        print('Accuracy:',accuracy.eval({x:[i[0] for i in validation_data], y:[i[1] for i in validation_data]}))\n",
    "        print('fitment percent:',successful_runs/total_runs)\n",
    "                      "
   ]
  },
  {
   "cell_type": "code",
   "execution_count": 6,
   "metadata": {},
   "outputs": [
    {
     "name": "stdout",
     "output_type": "stream",
     "text": [
      "Epoch 1 completed out of 3 loss: 0\n",
      "Accuracy: 0.6\n",
      "model_Lung_cancer000001.ckpt saved\n",
      "Epoch 2 completed out of 3 loss: 0\n",
      "Accuracy: 0.2\n",
      "model_Lung_cancer000002.ckpt saved\n",
      "Epoch 3 completed out of 3 loss: 0\n",
      "Accuracy: 0.6\n",
      "model_Lung_cancer000003.ckpt saved\n",
      "Done. Finishing accuracy:\n",
      "Accuracy: 0.8\n",
      "fitment percent: 0.0\n"
     ]
    }
   ],
   "source": [
    "train_neural_network(x)"
   ]
  },
  {
   "cell_type": "code",
   "execution_count": null,
   "metadata": {},
   "outputs": [],
   "source": []
  },
  {
   "cell_type": "code",
   "execution_count": null,
   "metadata": {},
   "outputs": [],
   "source": []
  }
 ],
 "metadata": {
  "kernelspec": {
   "display_name": "Python 3",
   "language": "python",
   "name": "python3"
  },
  "language_info": {
   "codemirror_mode": {
    "name": "ipython",
    "version": 3
   },
   "file_extension": ".py",
   "mimetype": "text/x-python",
   "name": "python",
   "nbconvert_exporter": "python",
   "pygments_lexer": "ipython3",
   "version": "3.6.8"
  },
  "pycharm": {
   "stem_cell": {
    "cell_type": "raw",
    "metadata": {
     "collapsed": false
    },
    "source": []
   }
  }
 },
 "nbformat": 4,
 "nbformat_minor": 1
}
